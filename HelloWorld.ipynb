{
 "cells": [
  {
   "cell_type": "markdown",
   "id": "3d569879-a41a-4764-9035-4e3e36379791",
   "metadata": {},
   "source": [
    "# Useful links\n",
    "[How to use Jupyter Notebook](https://www.dataquest.io/blog/jupyter-notebook-tutorial/)"
   ]
  },
  {
   "cell_type": "code",
   "execution_count": 1,
   "id": "a87e253c-f26e-461e-9294-000bd9f6b652",
   "metadata": {},
   "outputs": [
    {
     "name": "stdout",
     "output_type": "stream",
     "text": [
      "Hello, World!\n"
     ]
    }
   ],
   "source": [
    "print(\"Hello, World!\")"
   ]
  },
  {
   "cell_type": "code",
   "execution_count": 3,
   "id": "429cf588-c70e-4a51-9c10-439a57002056",
   "metadata": {},
   "outputs": [
    {
     "name": "stdout",
     "output_type": "stream",
     "text": [
      "Collecting numpy\n",
      "  Downloading numpy-1.20.2-cp38-cp38-macosx_10_9_x86_64.whl (16.0 MB)\n",
      "\u001b[K     |████████████████████████████████| 16.0 MB 4.9 MB/s eta 0:00:01    |███████████▎                    | 5.6 MB 4.9 MB/s eta 0:00:03\n",
      "\u001b[?25hInstalling collected packages: numpy\n",
      "Successfully installed numpy-1.20.2\n"
     ]
    }
   ],
   "source": [
    "# Install a pip package in the current Jupyter kernel\n",
    "import sys\n",
    "!{sys.executable} -m pip install numpy"
   ]
  },
  {
   "cell_type": "code",
   "execution_count": null,
   "id": "039752d5-db4f-4558-bfb2-14a79dc92046",
   "metadata": {},
   "outputs": [],
   "source": [
    "import numpy as np\n",
    "def square(x):\n",
    "    return x * x"
   ]
  }
 ],
 "metadata": {
  "kernelspec": {
   "display_name": "Python 3",
   "language": "python",
   "name": "python3"
  },
  "language_info": {
   "codemirror_mode": {
    "name": "ipython",
    "version": 3
   },
   "file_extension": ".py",
   "mimetype": "text/x-python",
   "name": "python",
   "nbconvert_exporter": "python",
   "pygments_lexer": "ipython3",
   "version": "3.8.2"
  }
 },
 "nbformat": 4,
 "nbformat_minor": 5
}
